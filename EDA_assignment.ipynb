{
  "nbformat": 4,
  "nbformat_minor": 0,
  "metadata": {
    "colab": {
      "provenance": []
    },
    "kernelspec": {
      "name": "python3",
      "display_name": "Python 3"
    },
    "language_info": {
      "name": "python"
    }
  },
  "cells": [
    {
      "cell_type": "code",
      "execution_count": null,
      "metadata": {
        "id": "yj6j3jr6phYM"
      },
      "outputs": [],
      "source": []
    },
    {
      "cell_type": "markdown",
      "source": [
        "**EDA Assignment Answers:**\n",
        "\n",
        "\n",
        "\n",
        "\n",
        "\n",
        "\n",
        "\n"
      ],
      "metadata": {
        "id": "TVxOFn5_p5ux"
      }
    },
    {
      "cell_type": "markdown",
      "source": [
        "**Question 1:** Read the Bike Details dataset into a Pandas DataFrame and display its\n",
        "first 10 rows.\n",
        "(Show the shape and column names as well.)\n",
        "(Include your Python code and output in the code box below.)\n"
      ],
      "metadata": {
        "id": "23eZnwigqMv3"
      }
    },
    {
      "cell_type": "code",
      "metadata": {
        "colab": {
          "base_uri": "https://localhost:8080/",
          "height": 519
        },
        "id": "51b1a66b",
        "outputId": "9b293768-d2ad-4889-8a6b-28099e23d404"
      },
      "source": [
        "import pandas as pd\n",
        "\n",
        "\n",
        "try:\n",
        "    df_bike_details = pd.read_csv('/content/BIKE DETAILS.csv')\n",
        "\n",
        "\n",
        "    print(\"First 10 rows of the DataFrame:\")\n",
        "    display(df_bike_details.head(10))\n",
        "\n",
        "\n",
        "    print(\"\\nShape of the DataFrame:\")\n",
        "    print(df_bike_details.shape)\n",
        "\n",
        "\n",
        "    print(\"\\nColumn names:\")\n",
        "    print(df_bike_details.columns)\n",
        "\n",
        "except FileNotFoundError:\n",
        "    print(\"Error: 'bike_details.csv' not found. Please make sure the file is in the correct directory or provide the full path.\")\n",
        "except Exception as e:\n",
        "    print(f\"An error occurred: {e}\")"
      ],
      "execution_count": 3,
      "outputs": [
        {
          "output_type": "stream",
          "name": "stdout",
          "text": [
            "First 10 rows of the DataFrame:\n"
          ]
        },
        {
          "output_type": "display_data",
          "data": {
            "text/plain": [
              "                                   name  selling_price  year seller_type  \\\n",
              "0             Royal Enfield Classic 350         175000  2019  Individual   \n",
              "1                             Honda Dio          45000  2017  Individual   \n",
              "2   Royal Enfield Classic Gunmetal Grey         150000  2018  Individual   \n",
              "3     Yamaha Fazer FI V 2.0 [2016-2018]          65000  2015  Individual   \n",
              "4                 Yamaha SZ [2013-2014]          20000  2011  Individual   \n",
              "5                      Honda CB Twister          18000  2010  Individual   \n",
              "6                  Honda CB Hornet 160R          78500  2018  Individual   \n",
              "7  Royal Enfield Bullet 350 [2007-2011]         180000  2008  Individual   \n",
              "8                Hero Honda CBZ extreme          30000  2010  Individual   \n",
              "9                    Bajaj Discover 125          50000  2016  Individual   \n",
              "\n",
              "       owner  km_driven  ex_showroom_price  \n",
              "0  1st owner        350                NaN  \n",
              "1  1st owner       5650                NaN  \n",
              "2  1st owner      12000           148114.0  \n",
              "3  1st owner      23000            89643.0  \n",
              "4  2nd owner      21000                NaN  \n",
              "5  1st owner      60000            53857.0  \n",
              "6  1st owner      17000            87719.0  \n",
              "7  2nd owner      39000                NaN  \n",
              "8  1st owner      32000                NaN  \n",
              "9  1st owner      42000            60122.0  "
            ],
            "text/html": [
              "\n",
              "  <div id=\"df-42b1edaa-75de-47a9-8e48-b986578867bb\" class=\"colab-df-container\">\n",
              "    <div>\n",
              "<style scoped>\n",
              "    .dataframe tbody tr th:only-of-type {\n",
              "        vertical-align: middle;\n",
              "    }\n",
              "\n",
              "    .dataframe tbody tr th {\n",
              "        vertical-align: top;\n",
              "    }\n",
              "\n",
              "    .dataframe thead th {\n",
              "        text-align: right;\n",
              "    }\n",
              "</style>\n",
              "<table border=\"1\" class=\"dataframe\">\n",
              "  <thead>\n",
              "    <tr style=\"text-align: right;\">\n",
              "      <th></th>\n",
              "      <th>name</th>\n",
              "      <th>selling_price</th>\n",
              "      <th>year</th>\n",
              "      <th>seller_type</th>\n",
              "      <th>owner</th>\n",
              "      <th>km_driven</th>\n",
              "      <th>ex_showroom_price</th>\n",
              "    </tr>\n",
              "  </thead>\n",
              "  <tbody>\n",
              "    <tr>\n",
              "      <th>0</th>\n",
              "      <td>Royal Enfield Classic 350</td>\n",
              "      <td>175000</td>\n",
              "      <td>2019</td>\n",
              "      <td>Individual</td>\n",
              "      <td>1st owner</td>\n",
              "      <td>350</td>\n",
              "      <td>NaN</td>\n",
              "    </tr>\n",
              "    <tr>\n",
              "      <th>1</th>\n",
              "      <td>Honda Dio</td>\n",
              "      <td>45000</td>\n",
              "      <td>2017</td>\n",
              "      <td>Individual</td>\n",
              "      <td>1st owner</td>\n",
              "      <td>5650</td>\n",
              "      <td>NaN</td>\n",
              "    </tr>\n",
              "    <tr>\n",
              "      <th>2</th>\n",
              "      <td>Royal Enfield Classic Gunmetal Grey</td>\n",
              "      <td>150000</td>\n",
              "      <td>2018</td>\n",
              "      <td>Individual</td>\n",
              "      <td>1st owner</td>\n",
              "      <td>12000</td>\n",
              "      <td>148114.0</td>\n",
              "    </tr>\n",
              "    <tr>\n",
              "      <th>3</th>\n",
              "      <td>Yamaha Fazer FI V 2.0 [2016-2018]</td>\n",
              "      <td>65000</td>\n",
              "      <td>2015</td>\n",
              "      <td>Individual</td>\n",
              "      <td>1st owner</td>\n",
              "      <td>23000</td>\n",
              "      <td>89643.0</td>\n",
              "    </tr>\n",
              "    <tr>\n",
              "      <th>4</th>\n",
              "      <td>Yamaha SZ [2013-2014]</td>\n",
              "      <td>20000</td>\n",
              "      <td>2011</td>\n",
              "      <td>Individual</td>\n",
              "      <td>2nd owner</td>\n",
              "      <td>21000</td>\n",
              "      <td>NaN</td>\n",
              "    </tr>\n",
              "    <tr>\n",
              "      <th>5</th>\n",
              "      <td>Honda CB Twister</td>\n",
              "      <td>18000</td>\n",
              "      <td>2010</td>\n",
              "      <td>Individual</td>\n",
              "      <td>1st owner</td>\n",
              "      <td>60000</td>\n",
              "      <td>53857.0</td>\n",
              "    </tr>\n",
              "    <tr>\n",
              "      <th>6</th>\n",
              "      <td>Honda CB Hornet 160R</td>\n",
              "      <td>78500</td>\n",
              "      <td>2018</td>\n",
              "      <td>Individual</td>\n",
              "      <td>1st owner</td>\n",
              "      <td>17000</td>\n",
              "      <td>87719.0</td>\n",
              "    </tr>\n",
              "    <tr>\n",
              "      <th>7</th>\n",
              "      <td>Royal Enfield Bullet 350 [2007-2011]</td>\n",
              "      <td>180000</td>\n",
              "      <td>2008</td>\n",
              "      <td>Individual</td>\n",
              "      <td>2nd owner</td>\n",
              "      <td>39000</td>\n",
              "      <td>NaN</td>\n",
              "    </tr>\n",
              "    <tr>\n",
              "      <th>8</th>\n",
              "      <td>Hero Honda CBZ extreme</td>\n",
              "      <td>30000</td>\n",
              "      <td>2010</td>\n",
              "      <td>Individual</td>\n",
              "      <td>1st owner</td>\n",
              "      <td>32000</td>\n",
              "      <td>NaN</td>\n",
              "    </tr>\n",
              "    <tr>\n",
              "      <th>9</th>\n",
              "      <td>Bajaj Discover 125</td>\n",
              "      <td>50000</td>\n",
              "      <td>2016</td>\n",
              "      <td>Individual</td>\n",
              "      <td>1st owner</td>\n",
              "      <td>42000</td>\n",
              "      <td>60122.0</td>\n",
              "    </tr>\n",
              "  </tbody>\n",
              "</table>\n",
              "</div>\n",
              "    <div class=\"colab-df-buttons\">\n",
              "\n",
              "  <div class=\"colab-df-container\">\n",
              "    <button class=\"colab-df-convert\" onclick=\"convertToInteractive('df-42b1edaa-75de-47a9-8e48-b986578867bb')\"\n",
              "            title=\"Convert this dataframe to an interactive table.\"\n",
              "            style=\"display:none;\">\n",
              "\n",
              "  <svg xmlns=\"http://www.w3.org/2000/svg\" height=\"24px\" viewBox=\"0 -960 960 960\">\n",
              "    <path d=\"M120-120v-720h720v720H120Zm60-500h600v-160H180v160Zm220 220h160v-160H400v160Zm0 220h160v-160H400v160ZM180-400h160v-160H180v160Zm440 0h160v-160H620v160ZM180-180h160v-160H180v160Zm440 0h160v-160H620v160Z\"/>\n",
              "  </svg>\n",
              "    </button>\n",
              "\n",
              "  <style>\n",
              "    .colab-df-container {\n",
              "      display:flex;\n",
              "      gap: 12px;\n",
              "    }\n",
              "\n",
              "    .colab-df-convert {\n",
              "      background-color: #E8F0FE;\n",
              "      border: none;\n",
              "      border-radius: 50%;\n",
              "      cursor: pointer;\n",
              "      display: none;\n",
              "      fill: #1967D2;\n",
              "      height: 32px;\n",
              "      padding: 0 0 0 0;\n",
              "      width: 32px;\n",
              "    }\n",
              "\n",
              "    .colab-df-convert:hover {\n",
              "      background-color: #E2EBFA;\n",
              "      box-shadow: 0px 1px 2px rgba(60, 64, 67, 0.3), 0px 1px 3px 1px rgba(60, 64, 67, 0.15);\n",
              "      fill: #174EA6;\n",
              "    }\n",
              "\n",
              "    .colab-df-buttons div {\n",
              "      margin-bottom: 4px;\n",
              "    }\n",
              "\n",
              "    [theme=dark] .colab-df-convert {\n",
              "      background-color: #3B4455;\n",
              "      fill: #D2E3FC;\n",
              "    }\n",
              "\n",
              "    [theme=dark] .colab-df-convert:hover {\n",
              "      background-color: #434B5C;\n",
              "      box-shadow: 0px 1px 3px 1px rgba(0, 0, 0, 0.15);\n",
              "      filter: drop-shadow(0px 1px 2px rgba(0, 0, 0, 0.3));\n",
              "      fill: #FFFFFF;\n",
              "    }\n",
              "  </style>\n",
              "\n",
              "    <script>\n",
              "      const buttonEl =\n",
              "        document.querySelector('#df-42b1edaa-75de-47a9-8e48-b986578867bb button.colab-df-convert');\n",
              "      buttonEl.style.display =\n",
              "        google.colab.kernel.accessAllowed ? 'block' : 'none';\n",
              "\n",
              "      async function convertToInteractive(key) {\n",
              "        const element = document.querySelector('#df-42b1edaa-75de-47a9-8e48-b986578867bb');\n",
              "        const dataTable =\n",
              "          await google.colab.kernel.invokeFunction('convertToInteractive',\n",
              "                                                    [key], {});\n",
              "        if (!dataTable) return;\n",
              "\n",
              "        const docLinkHtml = 'Like what you see? Visit the ' +\n",
              "          '<a target=\"_blank\" href=https://colab.research.google.com/notebooks/data_table.ipynb>data table notebook</a>'\n",
              "          + ' to learn more about interactive tables.';\n",
              "        element.innerHTML = '';\n",
              "        dataTable['output_type'] = 'display_data';\n",
              "        await google.colab.output.renderOutput(dataTable, element);\n",
              "        const docLink = document.createElement('div');\n",
              "        docLink.innerHTML = docLinkHtml;\n",
              "        element.appendChild(docLink);\n",
              "      }\n",
              "    </script>\n",
              "  </div>\n",
              "\n",
              "\n",
              "    <div id=\"df-4c82dbf2-234e-489b-9878-870da5563520\">\n",
              "      <button class=\"colab-df-quickchart\" onclick=\"quickchart('df-4c82dbf2-234e-489b-9878-870da5563520')\"\n",
              "                title=\"Suggest charts\"\n",
              "                style=\"display:none;\">\n",
              "\n",
              "<svg xmlns=\"http://www.w3.org/2000/svg\" height=\"24px\"viewBox=\"0 0 24 24\"\n",
              "     width=\"24px\">\n",
              "    <g>\n",
              "        <path d=\"M19 3H5c-1.1 0-2 .9-2 2v14c0 1.1.9 2 2 2h14c1.1 0 2-.9 2-2V5c0-1.1-.9-2-2-2zM9 17H7v-7h2v7zm4 0h-2V7h2v10zm4 0h-2v-4h2v4z\"/>\n",
              "    </g>\n",
              "</svg>\n",
              "      </button>\n",
              "\n",
              "<style>\n",
              "  .colab-df-quickchart {\n",
              "      --bg-color: #E8F0FE;\n",
              "      --fill-color: #1967D2;\n",
              "      --hover-bg-color: #E2EBFA;\n",
              "      --hover-fill-color: #174EA6;\n",
              "      --disabled-fill-color: #AAA;\n",
              "      --disabled-bg-color: #DDD;\n",
              "  }\n",
              "\n",
              "  [theme=dark] .colab-df-quickchart {\n",
              "      --bg-color: #3B4455;\n",
              "      --fill-color: #D2E3FC;\n",
              "      --hover-bg-color: #434B5C;\n",
              "      --hover-fill-color: #FFFFFF;\n",
              "      --disabled-bg-color: #3B4455;\n",
              "      --disabled-fill-color: #666;\n",
              "  }\n",
              "\n",
              "  .colab-df-quickchart {\n",
              "    background-color: var(--bg-color);\n",
              "    border: none;\n",
              "    border-radius: 50%;\n",
              "    cursor: pointer;\n",
              "    display: none;\n",
              "    fill: var(--fill-color);\n",
              "    height: 32px;\n",
              "    padding: 0;\n",
              "    width: 32px;\n",
              "  }\n",
              "\n",
              "  .colab-df-quickchart:hover {\n",
              "    background-color: var(--hover-bg-color);\n",
              "    box-shadow: 0 1px 2px rgba(60, 64, 67, 0.3), 0 1px 3px 1px rgba(60, 64, 67, 0.15);\n",
              "    fill: var(--button-hover-fill-color);\n",
              "  }\n",
              "\n",
              "  .colab-df-quickchart-complete:disabled,\n",
              "  .colab-df-quickchart-complete:disabled:hover {\n",
              "    background-color: var(--disabled-bg-color);\n",
              "    fill: var(--disabled-fill-color);\n",
              "    box-shadow: none;\n",
              "  }\n",
              "\n",
              "  .colab-df-spinner {\n",
              "    border: 2px solid var(--fill-color);\n",
              "    border-color: transparent;\n",
              "    border-bottom-color: var(--fill-color);\n",
              "    animation:\n",
              "      spin 1s steps(1) infinite;\n",
              "  }\n",
              "\n",
              "  @keyframes spin {\n",
              "    0% {\n",
              "      border-color: transparent;\n",
              "      border-bottom-color: var(--fill-color);\n",
              "      border-left-color: var(--fill-color);\n",
              "    }\n",
              "    20% {\n",
              "      border-color: transparent;\n",
              "      border-left-color: var(--fill-color);\n",
              "      border-top-color: var(--fill-color);\n",
              "    }\n",
              "    30% {\n",
              "      border-color: transparent;\n",
              "      border-left-color: var(--fill-color);\n",
              "      border-top-color: var(--fill-color);\n",
              "      border-right-color: var(--fill-color);\n",
              "    }\n",
              "    40% {\n",
              "      border-color: transparent;\n",
              "      border-right-color: var(--fill-color);\n",
              "      border-top-color: var(--fill-color);\n",
              "    }\n",
              "    60% {\n",
              "      border-color: transparent;\n",
              "      border-right-color: var(--fill-color);\n",
              "    }\n",
              "    80% {\n",
              "      border-color: transparent;\n",
              "      border-right-color: var(--fill-color);\n",
              "      border-bottom-color: var(--fill-color);\n",
              "    }\n",
              "    90% {\n",
              "      border-color: transparent;\n",
              "      border-bottom-color: var(--fill-color);\n",
              "    }\n",
              "  }\n",
              "</style>\n",
              "\n",
              "      <script>\n",
              "        async function quickchart(key) {\n",
              "          const quickchartButtonEl =\n",
              "            document.querySelector('#' + key + ' button');\n",
              "          quickchartButtonEl.disabled = true;  // To prevent multiple clicks.\n",
              "          quickchartButtonEl.classList.add('colab-df-spinner');\n",
              "          try {\n",
              "            const charts = await google.colab.kernel.invokeFunction(\n",
              "                'suggestCharts', [key], {});\n",
              "          } catch (error) {\n",
              "            console.error('Error during call to suggestCharts:', error);\n",
              "          }\n",
              "          quickchartButtonEl.classList.remove('colab-df-spinner');\n",
              "          quickchartButtonEl.classList.add('colab-df-quickchart-complete');\n",
              "        }\n",
              "        (() => {\n",
              "          let quickchartButtonEl =\n",
              "            document.querySelector('#df-4c82dbf2-234e-489b-9878-870da5563520 button');\n",
              "          quickchartButtonEl.style.display =\n",
              "            google.colab.kernel.accessAllowed ? 'block' : 'none';\n",
              "        })();\n",
              "      </script>\n",
              "    </div>\n",
              "\n",
              "    </div>\n",
              "  </div>\n"
            ],
            "application/vnd.google.colaboratory.intrinsic+json": {
              "type": "dataframe",
              "summary": "{\n  \"name\": \"    print(f\\\"An error occurred: {e}\\\")\",\n  \"rows\": 10,\n  \"fields\": [\n    {\n      \"column\": \"name\",\n      \"properties\": {\n        \"dtype\": \"string\",\n        \"num_unique_values\": 10,\n        \"samples\": [\n          \"Hero Honda CBZ extreme\",\n          \"Honda Dio\",\n          \"Honda CB Twister\"\n        ],\n        \"semantic_type\": \"\",\n        \"description\": \"\"\n      }\n    },\n    {\n      \"column\": \"selling_price\",\n      \"properties\": {\n        \"dtype\": \"number\",\n        \"std\": 63428,\n        \"min\": 18000,\n        \"max\": 180000,\n        \"num_unique_values\": 10,\n        \"samples\": [\n          30000,\n          45000,\n          18000\n        ],\n        \"semantic_type\": \"\",\n        \"description\": \"\"\n      }\n    },\n    {\n      \"column\": \"year\",\n      \"properties\": {\n        \"dtype\": \"number\",\n        \"std\": 4,\n        \"min\": 2008,\n        \"max\": 2019,\n        \"num_unique_values\": 8,\n        \"samples\": [\n          2017,\n          2010,\n          2019\n        ],\n        \"semantic_type\": \"\",\n        \"description\": \"\"\n      }\n    },\n    {\n      \"column\": \"seller_type\",\n      \"properties\": {\n        \"dtype\": \"category\",\n        \"num_unique_values\": 1,\n        \"samples\": [\n          \"Individual\"\n        ],\n        \"semantic_type\": \"\",\n        \"description\": \"\"\n      }\n    },\n    {\n      \"column\": \"owner\",\n      \"properties\": {\n        \"dtype\": \"category\",\n        \"num_unique_values\": 2,\n        \"samples\": [\n          \"2nd owner\"\n        ],\n        \"semantic_type\": \"\",\n        \"description\": \"\"\n      }\n    },\n    {\n      \"column\": \"km_driven\",\n      \"properties\": {\n        \"dtype\": \"number\",\n        \"std\": 18238,\n        \"min\": 350,\n        \"max\": 60000,\n        \"num_unique_values\": 10,\n        \"samples\": [\n          32000\n        ],\n        \"semantic_type\": \"\",\n        \"description\": \"\"\n      }\n    },\n    {\n      \"column\": \"ex_showroom_price\",\n      \"properties\": {\n        \"dtype\": \"number\",\n        \"std\": 37280.488643525045,\n        \"min\": 53857.0,\n        \"max\": 148114.0,\n        \"num_unique_values\": 5,\n        \"samples\": [\n          89643.0\n        ],\n        \"semantic_type\": \"\",\n        \"description\": \"\"\n      }\n    }\n  ]\n}"
            }
          },
          "metadata": {}
        },
        {
          "output_type": "stream",
          "name": "stdout",
          "text": [
            "\n",
            "Shape of the DataFrame:\n",
            "(1061, 7)\n",
            "\n",
            "Column names:\n",
            "Index(['name', 'selling_price', 'year', 'seller_type', 'owner', 'km_driven',\n",
            "       'ex_showroom_price'],\n",
            "      dtype='object')\n"
          ]
        }
      ]
    },
    {
      "cell_type": "markdown",
      "source": [
        "**Question 2:** Check for missing values in all columns and describe your approach for\n",
        "handling them.\n",
        "(Include your Python code and output in the code box below.)"
      ],
      "metadata": {
        "id": "5l2c4ycRq_XB"
      }
    },
    {
      "cell_type": "code",
      "metadata": {
        "colab": {
          "base_uri": "https://localhost:8080/"
        },
        "id": "a737b809",
        "outputId": "966cc058-78ca-4e37-93be-a7734e57b165"
      },
      "source": [
        "\n",
        "missing_values = df_bike_details.isnull().sum()\n",
        "print(\"Missing values per column:\")\n",
        "print(missing_values)"
      ],
      "execution_count": 4,
      "outputs": [
        {
          "output_type": "stream",
          "name": "stdout",
          "text": [
            "Missing values per column:\n",
            "name                   0\n",
            "selling_price          0\n",
            "year                   0\n",
            "seller_type            0\n",
            "owner                  0\n",
            "km_driven              0\n",
            "ex_showroom_price    435\n",
            "dtype: int64\n"
          ]
        }
      ]
    },
    {
      "cell_type": "markdown",
      "metadata": {
        "id": "c34ffd19"
      },
      "source": [
        "**Approach for Handling Missing Values:**\n",
        "\n",
        "Based on the output of the missing values check, I will consider the following approaches for handling them:\n",
        "\n",
        "*   **Identify columns with missing values:** Determine which columns have a significant number of missing values.\n",
        "*   **Analyze the nature of missing data:** Understand why the data might be missing (e.g., not applicable, not recorded).\n",
        "*   **Choose appropriate handling strategy:**\n",
        "    *   **Dropping rows or columns:** If a column has a very high percentage of missing values and is not crucial for analysis, or if only a few rows have missing values, dropping them might be an option.\n",
        "    *   **Imputation:** Fill missing values with a suitable substitute. This could involve:\n",
        "        *   **Mean/Median/Mode imputation:** Replacing missing values with the mean, median, or mode of the column (suitable for numerical data).\n",
        "        *   **Forward fill or backward fill:** Carrying forward or backward the last/next valid observation (suitable for time series or ordered data).\n",
        "        *   **Model-based imputation:** Using a machine learning model to predict missing values based on other columns.\n",
        "*   **Document the approach:** Clearly state how missing values were handled for each column.\n",
        "\n",
        "The specific approach will depend on the context of the data and the goals of the analysis. For the `ex_showroom_price` column, which has a significant number of missing values, further investigation into the reason for the missing data would be necessary to determine the best handling strategy. If the missing values indicate that there was no ex-showroom price for those bikes (e.g., older models), imputation might not be appropriate, and it might be better to treat these as a separate category or exclude them from analyses where this column is crucial."
      ]
    },
    {
      "cell_type": "markdown",
      "source": [
        "**Question 3:** Plot the distribution of selling prices using a histogram and describe the\n",
        "overall trend.\n",
        "(Include your Python code and output in the code box below.)"
      ],
      "metadata": {
        "id": "S-m8kC6WrQ9y"
      }
    },
    {
      "cell_type": "code",
      "metadata": {
        "colab": {
          "base_uri": "https://localhost:8080/",
          "height": 564
        },
        "id": "21f773d8",
        "outputId": "826a8919-752f-4318-884d-1eafd542ae57"
      },
      "source": [
        "import matplotlib.pyplot as plt\n",
        "import seaborn as sns\n",
        "\n",
        "\n",
        "plt.figure(figsize=(10, 6))\n",
        "sns.histplot(df_bike_details['selling_price'], bins=50, kde=True)\n",
        "plt.title('Distribution of Selling Prices')\n",
        "plt.xlabel('Selling Price')\n",
        "plt.ylabel('Frequency')\n",
        "plt.grid(True)\n",
        "plt.show()"
      ],
      "execution_count": 5,
      "outputs": [
        {
          "output_type": "display_data",
          "data": {
            "text/plain": [
              "<Figure size 1000x600 with 1 Axes>"
            ],
            "image/png": "[encoded data removed]"
          },
          "metadata": {}
        }
      ]
    },
    {
      "cell_type": "markdown",
      "metadata": {
        "id": "cbbbcc23"
      },
      "source": [
        "**Overall Trend of Selling Prices:**\n",
        "\n",
        "Based on the histogram of selling prices:\n",
        "\n",
        "*   The distribution appears to be **right-skewed**, indicating that most bikes have lower selling prices, with fewer bikes having higher selling prices.\n",
        "*   There is a **peak** in the lower price range, suggesting a higher frequency of bikes being sold at more affordable prices.\n",
        "*   The **tail** of the distribution extends towards higher prices, indicating the presence of some more expensive bikes, but in smaller numbers.\n",
        "\n",
        "This suggests that the market for these bikes is dominated by lower to moderately priced vehicles."
      ]
    },
    {
      "cell_type": "markdown",
      "source": [
        "**Question 4:** Create a bar plot to visualize the average selling price for each seller_type\n",
        "and write one observation.\n",
        "(Include your Python code and output in the code box below.)"
      ],
      "metadata": {
        "id": "UKymeEsorb5H"
      }
    },
    {
      "cell_type": "code",
      "metadata": {
        "colab": {
          "base_uri": "https://localhost:8080/",
          "height": 487
        },
        "id": "ab95ed21",
        "outputId": "ba88a5a9-e7f4-4b4a-9044-d36374bad6f3"
      },
      "source": [
        "\n",
        "average_selling_price_by_seller_type = df_bike_details.groupby('seller_type')['selling_price'].mean().reset_index()\n",
        "\n",
        "\n",
        "plt.figure(figsize=(8, 5))\n",
        "sns.barplot(x='seller_type', y='selling_price', data=average_selling_price_by_seller_type)\n",
        "plt.title('Average Selling Price by Seller Type')\n",
        "plt.xlabel('Seller Type')\n",
        "plt.ylabel('Average Selling Price')\n",
        "plt.show()"
      ],
      "execution_count": 6,
      "outputs": [
        {
          "output_type": "display_data",
          "data": {
            "text/plain": [
              "<Figure size 800x500 with 1 Axes>"
            ],
            "image/png": "[encoded data removed]"
          },
          "metadata": {}
        }
      ]
    },
    {
      "cell_type": "markdown",
      "metadata": {
        "id": "aea49b70"
      },
      "source": [
        "**Observation on Average Selling Price by Seller Type:**\n",
        "\n",
        "Based on the bar plot, it appears that the average selling price is significantly higher for bikes sold by **Dealer** compared to those sold by **Individual** sellers. This could be due to various factors such as dealer markups, inclusion of additional services, or the types of bikes typically sold by dealers."
      ]
    },
    {
      "cell_type": "markdown",
      "source": [
        "**Question 5:** Compute the average km_driven for each ownership type (1st owner,\n",
        "2nd owner, etc.), and present the result as a bar plot.\n",
        "(Include your Python code and output in the code box below.)"
      ],
      "metadata": {
        "id": "85_ObZtVrpaE"
      }
    },
    {
      "cell_type": "code",
      "metadata": {
        "colab": {
          "base_uri": "https://localhost:8080/",
          "height": 487
        },
        "id": "9186aa15",
        "outputId": "15a83615-9a77-4cc3-c2c4-23b9de43d876"
      },
      "source": [
        "\n",
        "average_km_driven_by_owner = df_bike_details.groupby('owner')['km_driven'].mean().reset_index()\n",
        "\n",
        "\n",
        "plt.figure(figsize=(8, 5))\n",
        "sns.barplot(x='owner', y='km_driven', data=average_km_driven_by_owner)\n",
        "plt.title('Average Kilometers Driven by Ownership Type')\n",
        "plt.xlabel('Ownership Type')\n",
        "plt.ylabel('Average Kilometers Driven')\n",
        "plt.show()"
      ],
      "execution_count": 7,
      "outputs": [
        {
          "output_type": "display_data",
          "data": {
            "text/plain": [
              "<Figure size 800x500 with 1 Axes>"
            ],
            "image/png": "[encoded data removed]"
          },
          "metadata": {}
        }
      ]
    },
    {
      "cell_type": "markdown",
      "source": [
        "**Question 6:** Use the IQR method to detect and remove outliers from the km_driven\n",
        "column. Show before-and-after summary statistics.\n",
        "(Include your Python code and output in the code box below.)"
      ],
      "metadata": {
        "id": "S5cM38IEry5D"
      }
    },
    {
      "cell_type": "code",
      "metadata": {
        "colab": {
          "base_uri": "https://localhost:8080/",
          "height": 704
        },
        "id": "e838d7fb",
        "outputId": "656b999f-eee8-4824-fd71-487c12984ee7"
      },
      "source": [
        "\n",
        "print(\"Summary statistics of km_driven before outlier removal:\")\n",
        "display(df_bike_details['km_driven'].describe())\n",
        "\n",
        "\n",
        "Q1 = df_bike_details['km_driven'].quantile(0.25)\n",
        "Q3 = df_bike_details['km_driven'].quantile(0.75)\n",
        "IQR = Q3 - Q1\n",
        "\n",
        "\n",
        "lower_bound = Q1 - 1.5 * IQR\n",
        "upper_bound = Q3 + 1.5 * IQR\n",
        "\n",
        "\n",
        "df_bike_details_no_outliers = df_bike_details[(df_bike_details['km_driven'] >= lower_bound) & (df_bike_details['km_driven'] <= upper_bound)].copy()\n",
        "\n",
        "\n",
        "print(\"\\nSummary statistics of km_driven after outlier removal:\")\n",
        "display(df_bike_details_no_outliers['km_driven'].describe())"
      ],
      "execution_count": 8,
      "outputs": [
        {
          "output_type": "stream",
          "name": "stdout",
          "text": [
            "Summary statistics of km_driven before outlier removal:\n"
          ]
        },
        {
          "output_type": "display_data",
          "data": {
            "text/plain": [
              "count      1061.000000\n",
              "mean      34359.833176\n",
              "std       51623.152702\n",
              "min         350.000000\n",
              "25%       13500.000000\n",
              "50%       25000.000000\n",
              "75%       43000.000000\n",
              "max      880000.000000\n",
              "Name: km_driven, dtype: float64"
            ],
            "text/html": [
              "<div>\n",
              "<style scoped>\n",
              "    .dataframe tbody tr th:only-of-type {\n",
              "        vertical-align: middle;\n",
              "    }\n",
              "\n",
              "    .dataframe tbody tr th {\n",
              "        vertical-align: top;\n",
              "    }\n",
              "\n",
              "    .dataframe thead th {\n",
              "        text-align: right;\n",
              "    }\n",
              "</style>\n",
              "<table border=\"1\" class=\"dataframe\">\n",
              "  <thead>\n",
              "    <tr style=\"text-align: right;\">\n",
              "      <th></th>\n",
              "      <th>km_driven</th>\n",
              "    </tr>\n",
              "  </thead>\n",
              "  <tbody>\n",
              "    <tr>\n",
              "      <th>count</th>\n",
              "      <td>1061.000000</td>\n",
              "    </tr>\n",
              "    <tr>\n",
              "      <th>mean</th>\n",
              "      <td>34359.833176</td>\n",
              "    </tr>\n",
              "    <tr>\n",
              "      <th>std</th>\n",
              "      <td>51623.152702</td>\n",
              "    </tr>\n",
              "    <tr>\n",
              "      <th>min</th>\n",
              "      <td>350.000000</td>\n",
              "    </tr>\n",
              "    <tr>\n",
              "      <th>25%</th>\n",
              "      <td>13500.000000</td>\n",
              "    </tr>\n",
              "    <tr>\n",
              "      <th>50%</th>\n",
              "      <td>25000.000000</td>\n",
              "    </tr>\n",
              "    <tr>\n",
              "      <th>75%</th>\n",
              "      <td>43000.000000</td>\n",
              "    </tr>\n",
              "    <tr>\n",
              "      <th>max</th>\n",
              "      <td>880000.000000</td>\n",
              "    </tr>\n",
              "  </tbody>\n",
              "</table>\n",
              "</div><br><label><b>dtype:</b> float64</label>"
            ]
          },
          "metadata": {}
        },
        {
          "output_type": "stream",
          "name": "stdout",
          "text": [
            "\n",
            "Summary statistics of km_driven after outlier removal:\n"
          ]
        },
        {
          "output_type": "display_data",
          "data": {
            "text/plain": [
              "count     1022.000000\n",
              "mean     28203.415851\n",
              "std      19552.083583\n",
              "min        350.000000\n",
              "25%      13000.000000\n",
              "50%      24000.000000\n",
              "75%      40000.000000\n",
              "max      86000.000000\n",
              "Name: km_driven, dtype: float64"
            ],
            "text/html": [
              "<div>\n",
              "<style scoped>\n",
              "    .dataframe tbody tr th:only-of-type {\n",
              "        vertical-align: middle;\n",
              "    }\n",
              "\n",
              "    .dataframe tbody tr th {\n",
              "        vertical-align: top;\n",
              "    }\n",
              "\n",
              "    .dataframe thead th {\n",
              "        text-align: right;\n",
              "    }\n",
              "</style>\n",
              "<table border=\"1\" class=\"dataframe\">\n",
              "  <thead>\n",
              "    <tr style=\"text-align: right;\">\n",
              "      <th></th>\n",
              "      <th>km_driven</th>\n",
              "    </tr>\n",
              "  </thead>\n",
              "  <tbody>\n",
              "    <tr>\n",
              "      <th>count</th>\n",
              "      <td>1022.000000</td>\n",
              "    </tr>\n",
              "    <tr>\n",
              "      <th>mean</th>\n",
              "      <td>28203.415851</td>\n",
              "    </tr>\n",
              "    <tr>\n",
              "      <th>std</th>\n",
              "      <td>19552.083583</td>\n",
              "    </tr>\n",
              "    <tr>\n",
              "      <th>min</th>\n",
              "      <td>350.000000</td>\n",
              "    </tr>\n",
              "    <tr>\n",
              "      <th>25%</th>\n",
              "      <td>13000.000000</td>\n",
              "    </tr>\n",
              "    <tr>\n",
              "      <th>50%</th>\n",
              "      <td>24000.000000</td>\n",
              "    </tr>\n",
              "    <tr>\n",
              "      <th>75%</th>\n",
              "      <td>40000.000000</td>\n",
              "    </tr>\n",
              "    <tr>\n",
              "      <th>max</th>\n",
              "      <td>86000.000000</td>\n",
              "    </tr>\n",
              "  </tbody>\n",
              "</table>\n",
              "</div><br><label><b>dtype:</b> float64</label>"
            ]
          },
          "metadata": {}
        }
      ]
    },
    {
      "cell_type": "markdown",
      "source": [
        "**Question 7:** Create a scatter plot of year vs. selling_price to explore the\n",
        "relationship between a bike's age and its price.\n",
        "(Include your Python code and output in the code box below.)"
      ],
      "metadata": {
        "id": "NfviTrDksAwF"
      }
    },
    {
      "cell_type": "code",
      "metadata": {
        "colab": {
          "base_uri": "https://localhost:8080/",
          "height": 564
        },
        "id": "af1bae24",
        "outputId": "96928e82-b2d0-444a-cc3b-22e468f1eccb"
      },
      "source": [
        "\n",
        "plt.figure(figsize=(10, 6))\n",
        "sns.scatterplot(x='year', y='selling_price', data=df_bike_details)\n",
        "plt.title('Selling Price vs. Year')\n",
        "plt.xlabel('Year')\n",
        "plt.ylabel('Selling Price')\n",
        "plt.grid(True)\n",
        "plt.show()"
      ],
      "execution_count": 9,
      "outputs": [
        {
          "output_type": "display_data",
          "data": {
            "text/plain": [
              "<Figure size 1000x600 with 1 Axes>"
            ],
            "image/png": "[encoded data removed]"
          },
          "metadata": {}
        }
      ]
    },
    {
      "cell_type": "markdown",
      "source": [
        "**Question 8:** Convert the seller_type column into numeric format using one-hot\n",
        "encoding. Display the first 5 rows of the resulting DataFrame.\n",
        "(Include your Python code and output in the code box below.)\n"
      ],
      "metadata": {
        "id": "0nM5rSszsJro"
      }
    },
    {
      "cell_type": "code",
      "metadata": {
        "colab": {
          "base_uri": "https://localhost:8080/",
          "height": 223
        },
        "id": "f4b0d298",
        "outputId": "02ba0176-6f73-4bfb-bb13-dfb44ca69447"
      },
      "source": [
        "\n",
        "df_bike_details_encoded = pd.get_dummies(df_bike_details, columns=['seller_type'], prefix='seller')\n",
        "\n",
        "\n",
        "print(\"DataFrame after one-hot encoding of 'seller_type':\")\n",
        "display(df_bike_details_encoded.head())"
      ],
      "execution_count": 10,
      "outputs": [
        {
          "output_type": "stream",
          "name": "stdout",
          "text": [
            "DataFrame after one-hot encoding of 'seller_type':\n"
          ]
        },
        {
          "output_type": "display_data",
          "data": {
            "text/plain": [
              "                                  name  selling_price  year      owner  \\\n",
              "0            Royal Enfield Classic 350         175000  2019  1st owner   \n",
              "1                            Honda Dio          45000  2017  1st owner   \n",
              "2  Royal Enfield Classic Gunmetal Grey         150000  2018  1st owner   \n",
              "3    Yamaha Fazer FI V 2.0 [2016-2018]          65000  2015  1st owner   \n",
              "4                Yamaha SZ [2013-2014]          20000  2011  2nd owner   \n",
              "\n",
              "   km_driven  ex_showroom_price  seller_Dealer  seller_Individual  \n",
              "0        350                NaN          False               True  \n",
              "1       5650                NaN          False               True  \n",
              "2      12000           148114.0          False               True  \n",
              "3      23000            89643.0          False               True  \n",
              "4      21000                NaN          False               True  "
            ],
            "text/html": [
              "\n",
              "  <div id=\"df-e96956e7-9ca6-4683-94a2-422b7a60e4c2\" class=\"colab-df-container\">\n",
              "    <div>\n",
              "<style scoped>\n",
              "    .dataframe tbody tr th:only-of-type {\n",
              "        vertical-align: middle;\n",
              "    }\n",
              "\n",
              "    .dataframe tbody tr th {\n",
              "        vertical-align: top;\n",
              "    }\n",
              "\n",
              "    .dataframe thead th {\n",
              "        text-align: right;\n",
              "    }\n",
              "</style>\n",
              "<table border=\"1\" class=\"dataframe\">\n",
              "  <thead>\n",
              "    <tr style=\"text-align: right;\">\n",
              "      <th></th>\n",
              "      <th>name</th>\n",
              "      <th>selling_price</th>\n",
              "      <th>year</th>\n",
              "      <th>owner</th>\n",
              "      <th>km_driven</th>\n",
              "      <th>ex_showroom_price</th>\n",
              "      <th>seller_Dealer</th>\n",
              "      <th>seller_Individual</th>\n",
              "    </tr>\n",
              "  </thead>\n",
              "  <tbody>\n",
              "    <tr>\n",
              "      <th>0</th>\n",
              "      <td>Royal Enfield Classic 350</td>\n",
              "      <td>175000</td>\n",
              "      <td>2019</td>\n",
              "      <td>1st owner</td>\n",
              "      <td>350</td>\n",
              "      <td>NaN</td>\n",
              "      <td>False</td>\n",
              "      <td>True</td>\n",
              "    </tr>\n",
              "    <tr>\n",
              "      <th>1</th>\n",
              "      <td>Honda Dio</td>\n",
              "      <td>45000</td>\n",
              "      <td>2017</td>\n",
              "      <td>1st owner</td>\n",
              "      <td>5650</td>\n",
              "      <td>NaN</td>\n",
              "      <td>False</td>\n",
              "      <td>True</td>\n",
              "    </tr>\n",
              "    <tr>\n",
              "      <th>2</th>\n",
              "      <td>Royal Enfield Classic Gunmetal Grey</td>\n",
              "      <td>150000</td>\n",
              "      <td>2018</td>\n",
              "      <td>1st owner</td>\n",
              "      <td>12000</td>\n",
              "      <td>148114.0</td>\n",
              "      <td>False</td>\n",
              "      <td>True</td>\n",
              "    </tr>\n",
              "    <tr>\n",
              "      <th>3</th>\n",
              "      <td>Yamaha Fazer FI V 2.0 [2016-2018]</td>\n",
              "      <td>65000</td>\n",
              "      <td>2015</td>\n",
              "      <td>1st owner</td>\n",
              "      <td>23000</td>\n",
              "      <td>89643.0</td>\n",
              "      <td>False</td>\n",
              "      <td>True</td>\n",
              "    </tr>\n",
              "    <tr>\n",
              "      <th>4</th>\n",
              "      <td>Yamaha SZ [2013-2014]</td>\n",
              "      <td>20000</td>\n",
              "      <td>2011</td>\n",
              "      <td>2nd owner</td>\n",
              "      <td>21000</td>\n",
              "      <td>NaN</td>\n",
              "      <td>False</td>\n",
              "      <td>True</td>\n",
              "    </tr>\n",
              "  </tbody>\n",
              "</table>\n",
              "</div>\n",
              "    <div class=\"colab-df-buttons\">\n",
              "\n",
              "  <div class=\"colab-df-container\">\n",
              "    <button class=\"colab-df-convert\" onclick=\"convertToInteractive('df-e96956e7-9ca6-4683-94a2-422b7a60e4c2')\"\n",
              "            title=\"Convert this dataframe to an interactive table.\"\n",
              "            style=\"display:none;\">\n",
              "\n",
              "  <svg xmlns=\"http://www.w3.org/2000/svg\" height=\"24px\" viewBox=\"0 -960 960 960\">\n",
              "    <path d=\"M120-120v-720h720v720H120Zm60-500h600v-160H180v160Zm220 220h160v-160H400v160Zm0 220h160v-160H400v160ZM180-400h160v-160H180v160Zm440 0h160v-160H620v160ZM180-180h160v-160H180v160Zm440 0h160v-160H620v160Z\"/>\n",
              "  </svg>\n",
              "    </button>\n",
              "\n",
              "  <style>\n",
              "    .colab-df-container {\n",
              "      display:flex;\n",
              "      gap: 12px;\n",
              "    }\n",
              "\n",
              "    .colab-df-convert {\n",
              "      background-color: #E8F0FE;\n",
              "      border: none;\n",
              "      border-radius: 50%;\n",
              "      cursor: pointer;\n",
              "      display: none;\n",
              "      fill: #1967D2;\n",
              "      height: 32px;\n",
              "      padding: 0 0 0 0;\n",
              "      width: 32px;\n",
              "    }\n",
              "\n",
              "    .colab-df-convert:hover {\n",
              "      background-color: #E2EBFA;\n",
              "      box-shadow: 0px 1px 2px rgba(60, 64, 67, 0.3), 0px 1px 3px 1px rgba(60, 64, 67, 0.15);\n",
              "      fill: #174EA6;\n",
              "    }\n",
              "\n",
              "    .colab-df-buttons div {\n",
              "      margin-bottom: 4px;\n",
              "    }\n",
              "\n",
              "    [theme=dark] .colab-df-convert {\n",
              "      background-color: #3B4455;\n",
              "      fill: #D2E3FC;\n",
              "    }\n",
              "\n",
              "    [theme=dark] .colab-df-convert:hover {\n",
              "      background-color: #434B5C;\n",
              "      box-shadow: 0px 1px 3px 1px rgba(0, 0, 0, 0.15);\n",
              "      filter: drop-shadow(0px 1px 2px rgba(0, 0, 0, 0.3));\n",
              "      fill: #FFFFFF;\n",
              "    }\n",
              "  </style>\n",
              "\n",
              "    <script>\n",
              "      const buttonEl =\n",
              "        document.querySelector('#df-e96956e7-9ca6-4683-94a2-422b7a60e4c2 button.colab-df-convert');\n",
              "      buttonEl.style.display =\n",
              "        google.colab.kernel.accessAllowed ? 'block' : 'none';\n",
              "\n",
              "      async function convertToInteractive(key) {\n",
              "        const element = document.querySelector('#df-e96956e7-9ca6-4683-94a2-422b7a60e4c2');\n",
              "        const dataTable =\n",
              "          await google.colab.kernel.invokeFunction('convertToInteractive',\n",
              "                                                    [key], {});\n",
              "        if (!dataTable) return;\n",
              "\n",
              "        const docLinkHtml = 'Like what you see? Visit the ' +\n",
              "          '<a target=\"_blank\" href=https://colab.research.google.com/notebooks/data_table.ipynb>data table notebook</a>'\n",
              "          + ' to learn more about interactive tables.';\n",
              "        element.innerHTML = '';\n",
              "        dataTable['output_type'] = 'display_data';\n",
              "        await google.colab.output.renderOutput(dataTable, element);\n",
              "        const docLink = document.createElement('div');\n",
              "        docLink.innerHTML = docLinkHtml;\n",
              "        element.appendChild(docLink);\n",
              "      }\n",
              "    </script>\n",
              "  </div>\n",
              "\n",
              "\n",
              "    <div id=\"df-0d325a67-2afe-4a39-9035-b1b8ec35b391\">\n",
              "      <button class=\"colab-df-quickchart\" onclick=\"quickchart('df-0d325a67-2afe-4a39-9035-b1b8ec35b391')\"\n",
              "                title=\"Suggest charts\"\n",
              "                style=\"display:none;\">\n",
              "\n",
              "<svg xmlns=\"http://www.w3.org/2000/svg\" height=\"24px\"viewBox=\"0 0 24 24\"\n",
              "     width=\"24px\">\n",
              "    <g>\n",
              "        <path d=\"M19 3H5c-1.1 0-2 .9-2 2v14c0 1.1.9 2 2 2h14c1.1 0 2-.9 2-2V5c0-1.1-.9-2-2-2zM9 17H7v-7h2v7zm4 0h-2V7h2v10zm4 0h-2v-4h2v4z\"/>\n",
              "    </g>\n",
              "</svg>\n",
              "      </button>\n",
              "\n",
              "<style>\n",
              "  .colab-df-quickchart {\n",
              "      --bg-color: #E8F0FE;\n",
              "      --fill-color: #1967D2;\n",
              "      --hover-bg-color: #E2EBFA;\n",
              "      --hover-fill-color: #174EA6;\n",
              "      --disabled-fill-color: #AAA;\n",
              "      --disabled-bg-color: #DDD;\n",
              "  }\n",
              "\n",
              "  [theme=dark] .colab-df-quickchart {\n",
              "      --bg-color: #3B4455;\n",
              "      --fill-color: #D2E3FC;\n",
              "      --hover-bg-color: #434B5C;\n",
              "      --hover-fill-color: #FFFFFF;\n",
              "      --disabled-bg-color: #3B4455;\n",
              "      --disabled-fill-color: #666;\n",
              "  }\n",
              "\n",
              "  .colab-df-quickchart {\n",
              "    background-color: var(--bg-color);\n",
              "    border: none;\n",
              "    border-radius: 50%;\n",
              "    cursor: pointer;\n",
              "    display: none;\n",
              "    fill: var(--fill-color);\n",
              "    height: 32px;\n",
              "    padding: 0;\n",
              "    width: 32px;\n",
              "  }\n",
              "\n",
              "  .colab-df-quickchart:hover {\n",
              "    background-color: var(--hover-bg-color);\n",
              "    box-shadow: 0 1px 2px rgba(60, 64, 67, 0.3), 0 1px 3px 1px rgba(60, 64, 67, 0.15);\n",
              "    fill: var(--button-hover-fill-color);\n",
              "  }\n",
              "\n",
              "  .colab-df-quickchart-complete:disabled,\n",
              "  .colab-df-quickchart-complete:disabled:hover {\n",
              "    background-color: var(--disabled-bg-color);\n",
              "    fill: var(--disabled-fill-color);\n",
              "    box-shadow: none;\n",
              "  }\n",
              "\n",
              "  .colab-df-spinner {\n",
              "    border: 2px solid var(--fill-color);\n",
              "    border-color: transparent;\n",
              "    border-bottom-color: var(--fill-color);\n",
              "    animation:\n",
              "      spin 1s steps(1) infinite;\n",
              "  }\n",
              "\n",
              "  @keyframes spin {\n",
              "    0% {\n",
              "      border-color: transparent;\n",
              "      border-bottom-color: var(--fill-color);\n",
              "      border-left-color: var(--fill-color);\n",
              "    }\n",
              "    20% {\n",
              "      border-color: transparent;\n",
              "      border-left-color: var(--fill-color);\n",
              "      border-top-color: var(--fill-color);\n",
              "    }\n",
              "    30% {\n",
              "      border-color: transparent;\n",
              "      border-left-color: var(--fill-color);\n",
              "      border-top-color: var(--fill-color);\n",
              "      border-right-color: var(--fill-color);\n",
              "    }\n",
              "    40% {\n",
              "      border-color: transparent;\n",
              "      border-right-color: var(--fill-color);\n",
              "      border-top-color: var(--fill-color);\n",
              "    }\n",
              "    60% {\n",
              "      border-color: transparent;\n",
              "      border-right-color: var(--fill-color);\n",
              "    }\n",
              "    80% {\n",
              "      border-color: transparent;\n",
              "      border-right-color: var(--fill-color);\n",
              "      border-bottom-color: var(--fill-color);\n",
              "    }\n",
              "    90% {\n",
              "      border-color: transparent;\n",
              "      border-bottom-color: var(--fill-color);\n",
              "    }\n",
              "  }\n",
              "</style>\n",
              "\n",
              "      <script>\n",
              "        async function quickchart(key) {\n",
              "          const quickchartButtonEl =\n",
              "            document.querySelector('#' + key + ' button');\n",
              "          quickchartButtonEl.disabled = true;  // To prevent multiple clicks.\n",
              "          quickchartButtonEl.classList.add('colab-df-spinner');\n",
              "          try {\n",
              "            const charts = await google.colab.kernel.invokeFunction(\n",
              "                'suggestCharts', [key], {});\n",
              "          } catch (error) {\n",
              "            console.error('Error during call to suggestCharts:', error);\n",
              "          }\n",
              "          quickchartButtonEl.classList.remove('colab-df-spinner');\n",
              "          quickchartButtonEl.classList.add('colab-df-quickchart-complete');\n",
              "        }\n",
              "        (() => {\n",
              "          let quickchartButtonEl =\n",
              "            document.querySelector('#df-0d325a67-2afe-4a39-9035-b1b8ec35b391 button');\n",
              "          quickchartButtonEl.style.display =\n",
              "            google.colab.kernel.accessAllowed ? 'block' : 'none';\n",
              "        })();\n",
              "      </script>\n",
              "    </div>\n",
              "\n",
              "    </div>\n",
              "  </div>\n"
            ],
            "application/vnd.google.colaboratory.intrinsic+json": {
              "type": "dataframe",
              "summary": "{\n  \"name\": \"display(df_bike_details_encoded\",\n  \"rows\": 5,\n  \"fields\": [\n    {\n      \"column\": \"name\",\n      \"properties\": {\n        \"dtype\": \"string\",\n        \"num_unique_values\": 5,\n        \"samples\": [\n          \"Honda Dio\",\n          \"Yamaha SZ [2013-2014]\",\n          \"Royal Enfield Classic Gunmetal Grey\"\n        ],\n        \"semantic_type\": \"\",\n        \"description\": \"\"\n      }\n    },\n    {\n      \"column\": \"selling_price\",\n      \"properties\": {\n        \"dtype\": \"number\",\n        \"std\": 67767,\n        \"min\": 20000,\n        \"max\": 175000,\n        \"num_unique_values\": 5,\n        \"samples\": [\n          45000,\n          20000,\n          150000\n        ],\n        \"semantic_type\": \"\",\n        \"description\": \"\"\n      }\n    },\n    {\n      \"column\": \"year\",\n      \"properties\": {\n        \"dtype\": \"number\",\n        \"std\": 3,\n        \"min\": 2011,\n        \"max\": 2019,\n        \"num_unique_values\": 5,\n        \"samples\": [\n          2017,\n          2011,\n          2018\n        ],\n        \"semantic_type\": \"\",\n        \"description\": \"\"\n      }\n    },\n    {\n      \"column\": \"owner\",\n      \"properties\": {\n        \"dtype\": \"category\",\n        \"num_unique_values\": 2,\n        \"samples\": [\n          \"2nd owner\",\n          \"1st owner\"\n        ],\n        \"semantic_type\": \"\",\n        \"description\": \"\"\n      }\n    },\n    {\n      \"column\": \"km_driven\",\n      \"properties\": {\n        \"dtype\": \"number\",\n        \"std\": 9711,\n        \"min\": 350,\n        \"max\": 23000,\n        \"num_unique_values\": 5,\n        \"samples\": [\n          5650,\n          21000\n        ],\n        \"semantic_type\": \"\",\n        \"description\": \"\"\n      }\n    },\n    {\n      \"column\": \"ex_showroom_price\",\n      \"properties\": {\n        \"dtype\": \"number\",\n        \"std\": 41345.24060275862,\n        \"min\": 89643.0,\n        \"max\": 148114.0,\n        \"num_unique_values\": 2,\n        \"samples\": [\n          89643.0,\n          148114.0\n        ],\n        \"semantic_type\": \"\",\n        \"description\": \"\"\n      }\n    },\n    {\n      \"column\": \"seller_Dealer\",\n      \"properties\": {\n        \"dtype\": \"boolean\",\n        \"num_unique_values\": 1,\n        \"samples\": [\n          false\n        ],\n        \"semantic_type\": \"\",\n        \"description\": \"\"\n      }\n    },\n    {\n      \"column\": \"seller_Individual\",\n      \"properties\": {\n        \"dtype\": \"boolean\",\n        \"num_unique_values\": 1,\n        \"samples\": [\n          true\n        ],\n        \"semantic_type\": \"\",\n        \"description\": \"\"\n      }\n    }\n  ]\n}"
            }
          },
          "metadata": {}
        }
      ]
    },
    {
      "cell_type": "markdown",
      "source": [
        "**Question 9:** Generate a heatmap of the correlation matrix for all numeric columns.\n",
        "What correlations stand out the most?\n",
        "(Include your Python code and output in the code box below.)"
      ],
      "metadata": {
        "id": "t1JUyla3sTX-"
      }
    },
    {
      "cell_type": "code",
      "metadata": {
        "colab": {
          "base_uri": "https://localhost:8080/",
          "height": 699
        },
        "id": "d053ec42",
        "outputId": "36dff3cb-5f79-4a5d-e505-fd69f3e3f7d2"
      },
      "source": [
        "\n",
        "numeric_cols = df_bike_details_encoded.select_dtypes(include=['number'])\n",
        "\n",
        "\n",
        "correlation_matrix = numeric_cols.corr()\n",
        "\n",
        "\n",
        "plt.figure(figsize=(10, 8))\n",
        "sns.heatmap(correlation_matrix, annot=True, cmap='coolwarm', fmt=\".2f\")\n",
        "plt.title('Correlation Matrix of Numeric Columns')\n",
        "plt.show()"
      ],
      "execution_count": 11,
      "outputs": [
        {
          "output_type": "display_data",
          "data": {
            "text/plain": [
              "<Figure size 1000x800 with 2 Axes>"
            ],
            "image/png": "[encoded data removed]"
          },
          "metadata": {}
        }
      ]
    },
    {
      "cell_type": "markdown",
      "metadata": {
        "id": "f542cc2c"
      },
      "source": [
        "**Notable Correlations from the Heatmap:**\n",
        "\n",
        "Based on the correlation heatmap:\n",
        "\n",
        "*   The correlation between `year` and `selling_price` is relatively high and positive, suggesting that newer bikes tend to have higher selling prices.\n",
        "*   The correlation between `km_driven` and `selling_price` is negative, indicating that bikes with higher mileage generally have lower selling prices.\n",
        "*   The `ex_showroom_price` shows a strong positive correlation with `selling_price`, which is expected as the ex-showroom price is a significant factor in determining the selling price.\n",
        "*   The one-hot encoded `seller_type` columns (e.g., `seller_Dealer` and `seller_Individual`) show expected negative correlation with each other as a bike can only have one seller type. Their correlation with `selling_price` aligns with the observation made in Question 4, where dealers tend to sell at higher prices."
      ]
    },
    {
      "cell_type": "markdown",
      "source": [
        "**Question 10:** Summarize your findings in a brief report:\n",
        "● What are the most important factors affecting a bike's selling price?\n",
        "● Mention any data cleaning or feature engineering you performed.\n"
      ],
      "metadata": {
        "id": "93HhWWG_sg3i"
      }
    },
    {
      "cell_type": "markdown",
      "metadata": {
        "id": "195bbf30"
      },
      "source": [
        "**Brief Report on Factors Affecting Bike Selling Price:**\n",
        "\n",
        "Based on the exploratory data analysis of the Bike Details dataset, the following factors appear to be the most important in affecting a bike's selling price:\n",
        "\n",
        "*   **Ex-Showroom Price:** This is the most significant factor, showing a very strong positive correlation with selling price. This is expected as the initial price of the bike heavily influences its resale value.\n",
        "*   **Year of Manufacture:** Newer bikes tend to have higher selling prices, as indicated by the positive correlation between `year` and `selling_price`. This reflects the depreciation of value over time.\n",
        "*   **Kilometers Driven:** There is a negative correlation between `km_driven` and `selling_price`, meaning bikes with higher mileage generally sell for less. This is a common indicator of wear and tear and reduced lifespan.\n",
        "*   **Seller Type:** The seller's type significantly impacts the selling price, with dealers generally selling bikes at higher average prices compared to individual sellers.\n",
        "\n",
        "**Data Cleaning and Feature Engineering Performed:**\n",
        "\n",
        "During this analysis, the following data cleaning and feature engineering steps were performed:\n",
        "\n",
        "*   **Handling Missing Values:** We identified missing values in the `ex_showroom_price` column. While a specific imputation or removal strategy wasn't implemented in the code shown, the approach for handling them was discussed, emphasizing the need to understand the nature of missingness before deciding on a method.\n",
        "*   **Outlier Detection and Removal:** The IQR method was used to detect and remove outliers from the `km_driven` column. This step aimed to improve the reliability of analyses involving this variable by mitigating the impact of extreme values.\n",
        "*   **One-Hot Encoding:** The categorical `seller_type` column was converted into a numeric format using one-hot encoding. This is a feature engineering technique that allows categorical variables to be used in quantitative analysis and modeling."
      ]
    }
  ]
}